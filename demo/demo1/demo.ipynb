{
 "cells": [
  {
   "cell_type": "markdown",
   "metadata": {},
   "source": [
    "参考[网站](https://blog.csdn.net/qq_47233366/article/details/122611672)  \n",
    "用于熟悉流程，完整代码参见demo.py"
   ]
  },
  {
   "cell_type": "markdown",
   "metadata": {},
   "source": [
    "## 0. 导入包"
   ]
  },
  {
   "cell_type": "code",
   "execution_count": 1,
   "metadata": {},
   "outputs": [
    {
     "name": "stdout",
     "output_type": "stream",
     "text": [
      "cuda\n"
     ]
    }
   ],
   "source": [
    "import torchvision\n",
    "from torch.utils.data import DataLoader\n",
    "import torch.nn as nn\n",
    "import torch\n",
    "\n",
    "device = torch.device(\"cuda\" if torch.cuda.is_available() else \"cpu\")\n",
    "print(device)"
   ]
  },
  {
   "cell_type": "markdown",
   "metadata": {},
   "source": [
    "## 1. 准备数据集"
   ]
  },
  {
   "cell_type": "code",
   "execution_count": 2,
   "metadata": {},
   "outputs": [
    {
     "name": "stdout",
     "output_type": "stream",
     "text": [
      "Files already downloaded and verified\n",
      "Files already downloaded and verified\n"
     ]
    }
   ],
   "source": [
    "train_dataset = torchvision.datasets.CIFAR10(\n",
    "    './data',    # 指定下载数据集保存的位置\n",
    "    train=True,   # 指下载的数据是训练集数据还是测试集数据【True表示训练集，Flase表示测试集】\n",
    "    transform=torchvision.transforms.ToTensor(),   # 图片的一个转化，要将图片格式转化为tensor类型\n",
    "    download=True   # download为True表示你没有这个数据，这时候会自动下载数据，为Flase表示有这个数据，不会再进行下载【注意：这个参数设置成True且你有数据集，那同样不会进行数据下载，故这个参数一直设置成True就好了】\n",
    ")\n",
    "test_dataset = torchvision.datasets.CIFAR10(\n",
    "    './data',\n",
    "    train=False,\n",
    "    transform=torchvision.transforms.ToTensor(),\n",
    "    download=True\n",
    ")"
   ]
  },
  {
   "cell_type": "code",
   "execution_count": 3,
   "metadata": {},
   "outputs": [
    {
     "name": "stdout",
     "output_type": "stream",
     "text": [
      "train_dataset_size:50000\n",
      "test_dataset_size:10000\n"
     ]
    }
   ],
   "source": [
    "# 打印数据集的长度来看一下这个数据集的大小\n",
    "train_dataset_size = len(train_dataset)\n",
    "test_dataset_size = len(test_dataset)\n",
    "print('train_dataset_size:{}'.format(train_dataset_size))\n",
    "print('test_dataset_size:{}'.format(test_dataset_size))"
   ]
  },
  {
   "cell_type": "markdown",
   "metadata": {},
   "source": [
    "## 2. 加载数据集"
   ]
  },
  {
   "cell_type": "code",
   "execution_count": 4,
   "metadata": {},
   "outputs": [],
   "source": [
    "train_dataset_loader = DataLoader(\n",
    "    dataset=train_dataset,\n",
    "    batch_size=64\n",
    ")\n",
    "test_dataset_loader = DataLoader(\n",
    "    dataset=test_dataset,\n",
    "    batch_size=64\n",
    ")"
   ]
  },
  {
   "cell_type": "markdown",
   "metadata": {},
   "source": [
    "![](https://raw.githubusercontent.com/XM-Chen/figuremap/main/my_notes/202310311642928.png)"
   ]
  },
  {
   "cell_type": "markdown",
   "metadata": {},
   "source": [
    "## 3. 搭建神经网络"
   ]
  },
  {
   "cell_type": "markdown",
   "metadata": {},
   "source": [
    "![](https://raw.githubusercontent.com/XM-Chen/figuremap/main/my_notes/202310311644101.png)  \n",
    "根据上图来搭建网络模型"
   ]
  },
  {
   "cell_type": "code",
   "execution_count": 5,
   "metadata": {},
   "outputs": [],
   "source": [
    "class Net(nn.Module):\n",
    "    def __init__(self):\n",
    "        super(Net, self).__init__()\n",
    "        self.model1 = nn.Sequential(\n",
    "            nn.Conv2d(3, 32, 5, padding=2),   # 第一个卷积层，输入通道为3，输出通道为32，卷积核大小为5*5\n",
    "            nn.MaxPool2d(2),\n",
    "            nn.Conv2d(32, 32, 5, padding=2),\n",
    "            nn.MaxPool2d(2),\n",
    "            nn.Conv2d(32, 64, 5, padding=2),\n",
    "            nn.MaxPool2d(2),\n",
    "            nn.Flatten(),\n",
    "            nn.Linear(64*4*4, 64),\n",
    "            nn.Linear(64, 10),\n",
    "        )\n",
    "    \n",
    "    \n",
    "    def forward(self, input):\n",
    "        input = self.model1(input)\n",
    "        return input"
   ]
  },
  {
   "cell_type": "markdown",
   "metadata": {},
   "source": [
    "## 4. 创建网络模型"
   ]
  },
  {
   "cell_type": "code",
   "execution_count": 6,
   "metadata": {},
   "outputs": [
    {
     "name": "stdout",
     "output_type": "stream",
     "text": [
      "Net(\n",
      "  (model1): Sequential(\n",
      "    (0): Conv2d(3, 32, kernel_size=(5, 5), stride=(1, 1), padding=(2, 2))\n",
      "    (1): MaxPool2d(kernel_size=2, stride=2, padding=0, dilation=1, ceil_mode=False)\n",
      "    (2): Conv2d(32, 32, kernel_size=(5, 5), stride=(1, 1), padding=(2, 2))\n",
      "    (3): MaxPool2d(kernel_size=2, stride=2, padding=0, dilation=1, ceil_mode=False)\n",
      "    (4): Conv2d(32, 64, kernel_size=(5, 5), stride=(1, 1), padding=(2, 2))\n",
      "    (5): MaxPool2d(kernel_size=2, stride=2, padding=0, dilation=1, ceil_mode=False)\n",
      "    (6): Flatten(start_dim=1, end_dim=-1)\n",
      "    (7): Linear(in_features=1024, out_features=64, bias=True)\n",
      "    (8): Linear(in_features=64, out_features=10, bias=True)\n",
      "  )\n",
      ")\n"
     ]
    }
   ],
   "source": [
    "net = Net().to(device)\n",
    "print(net)"
   ]
  },
  {
   "cell_type": "markdown",
   "metadata": {},
   "source": [
    " 到这里我们已经创建好了自己的模型，这个模型输入是3x32x32的图片【可以认为就是一个3x32x32的张量】，输出是1x10的向量。\n",
    " \n",
    " 每当我们创建好一个模型后，应该检测一下模型的输入输出是否是我们所期待的，若不是则及时调整模型。我们可以用以下代码来检测输出是否符合要求。"
   ]
  },
  {
   "cell_type": "code",
   "execution_count": 7,
   "metadata": {},
   "outputs": [],
   "source": [
    "# net = Net()\n",
    "# input = torch.randn([64, 3, 32, 32])  # 64是输入的batch_size\n",
    "# output = net(input)\n",
    "# print(output.size())"
   ]
  },
  {
   "cell_type": "markdown",
   "metadata": {},
   "source": [
    "## 5. 设置损失函数，优化器"
   ]
  },
  {
   "cell_type": "code",
   "execution_count": 8,
   "metadata": {},
   "outputs": [],
   "source": [
    "# 损失函数\n",
    "loss_func = nn.CrossEntropyLoss()\n",
    "loss_func = loss_func.to(device)\n",
    "\n",
    "\n",
    "# 优化器\n",
    "learn_rate = 0.001\n",
    "optimizer = torch.optim.Adam(net.parameters(), lr=learn_rate)"
   ]
  },
  {
   "cell_type": "markdown",
   "metadata": {},
   "source": [
    "## 6. 设置网络训练中的一些参数\n",
    "这部分主要是用来记录一些训练测试的次数及网络训练轮数。"
   ]
  },
  {
   "cell_type": "code",
   "execution_count": 9,
   "metadata": {},
   "outputs": [],
   "source": [
    "total_train_step = 0   # 记录总计训练的次数\n",
    "total_test_step = 0    # 记录总计测试的次数\n",
    "epoch = 20              # 设计训练的轮数"
   ]
  },
  {
   "cell_type": "markdown",
   "metadata": {},
   "source": [
    "## 7. 开始训练网络\n",
    "进行网络训练时，我们首先会通过自己构建的网络得到输出，然后比较输出和真实值，计算出损失，最后通过反向传播，调整网络中参数的值。"
   ]
  },
  {
   "cell_type": "code",
   "execution_count": 10,
   "metadata": {},
   "outputs": [
    {
     "name": "stdout",
     "output_type": "stream",
     "text": [
      "---第1轮训练开始---\n",
      "---第100次训练结束，Loss=1.7066161632537842\n",
      "---第200次训练结束，Loss=1.7024245262145996\n",
      "---第300次训练结束，Loss=1.4710195064544678\n",
      "---第400次训练结束，Loss=1.2554702758789062\n",
      "---第500次训练结束，Loss=1.2134944200515747\n",
      "---第600次训练结束，Loss=1.3010448217391968\n",
      "---第700次训练结束，Loss=1.3992218971252441\n",
      "---第2轮训练开始---\n",
      "---第800次训练结束，Loss=1.0933609008789062\n",
      "---第900次训练结束，Loss=1.059903860092163\n",
      "---第1000次训练结束，Loss=1.2663791179656982\n",
      "---第1100次训练结束，Loss=1.2637253999710083\n",
      "---第1200次训练结束，Loss=1.0375734567642212\n",
      "---第1300次训练结束，Loss=1.0435911417007446\n",
      "---第1400次训练结束，Loss=0.8742586374282837\n",
      "---第1500次训练结束，Loss=1.1345350742340088\n",
      "---第3轮训练开始---\n",
      "---第1600次训练结束，Loss=0.7971119284629822\n",
      "---第1700次训练结束，Loss=0.8544291257858276\n",
      "---第1800次训练结束，Loss=0.9309648871421814\n",
      "---第1900次训练结束，Loss=1.0064424276351929\n",
      "---第2000次训练结束，Loss=1.2302665710449219\n",
      "---第2100次训练结束，Loss=0.7614014744758606\n",
      "---第2200次训练结束，Loss=0.6597464084625244\n",
      "---第2300次训练结束，Loss=1.1109529733657837\n",
      "---第4轮训练开始---\n",
      "---第2400次训练结束，Loss=0.986819326877594\n",
      "---第2500次训练结束，Loss=0.8223930597305298\n",
      "---第2600次训练结束，Loss=0.8288963437080383\n",
      "---第2700次训练结束，Loss=0.8595637679100037\n",
      "---第2800次训练结束，Loss=0.8770551681518555\n",
      "---第2900次训练结束，Loss=0.867946207523346\n",
      "---第3000次训练结束，Loss=0.8204776048660278\n",
      "---第3100次训练结束，Loss=1.0319854021072388\n",
      "---第5轮训练开始---\n",
      "---第3200次训练结束，Loss=0.4647153913974762\n",
      "---第3300次训练结束，Loss=0.7228429913520813\n",
      "---第3400次训练结束，Loss=0.817221462726593\n",
      "---第3500次训练结束，Loss=0.6881452202796936\n",
      "---第3600次训练结束，Loss=0.7166047096252441\n",
      "---第3700次训练结束，Loss=0.6271313428878784\n",
      "---第3800次训练结束，Loss=0.950508177280426\n",
      "---第3900次训练结束，Loss=0.8174642324447632\n",
      "---第6轮训练开始---\n",
      "---第4000次训练结束，Loss=0.6621508598327637\n",
      "---第4100次训练结束，Loss=0.7566623687744141\n",
      "---第4200次训练结束，Loss=0.9674394726753235\n",
      "---第4300次训练结束，Loss=0.8303643465042114\n",
      "---第4400次训练结束，Loss=0.6060404181480408\n",
      "---第4500次训练结束，Loss=0.7245367169380188\n",
      "---第4600次训练结束，Loss=0.6800583600997925\n",
      "---第7轮训练开始---\n",
      "---第4700次训练结束，Loss=0.6688098907470703\n",
      "---第4800次训练结束，Loss=1.038506031036377\n",
      "---第4900次训练结束，Loss=1.0078270435333252\n",
      "---第5000次训练结束，Loss=0.834815263748169\n",
      "---第5100次训练结束，Loss=0.5735083818435669\n",
      "---第5200次训练结束，Loss=0.8709479570388794\n",
      "---第5300次训练结束，Loss=0.5183054208755493\n",
      "---第5400次训练结束，Loss=0.6151406168937683\n",
      "---第8轮训练开始---\n",
      "---第5500次训练结束，Loss=0.4483567476272583\n",
      "---第5600次训练结束，Loss=0.6143044233322144\n",
      "---第5700次训练结束，Loss=0.5134626030921936\n",
      "---第5800次训练结束，Loss=0.6529331207275391\n",
      "---第5900次训练结束，Loss=0.9217223525047302\n",
      "---第6000次训练结束，Loss=0.7450323700904846\n",
      "---第6100次训练结束，Loss=0.45767512917518616\n",
      "---第6200次训练结束，Loss=0.5896214842796326\n",
      "---第9轮训练开始---\n",
      "---第6300次训练结束，Loss=0.5254685878753662\n",
      "---第6400次训练结束，Loss=0.4902206063270569\n",
      "---第6500次训练结束，Loss=0.848560094833374\n",
      "---第6600次训练结束，Loss=0.6340087056159973\n",
      "---第6700次训练结束，Loss=0.4276815950870514\n",
      "---第6800次训练结束，Loss=0.6922611594200134\n",
      "---第6900次训练结束，Loss=0.3370012938976288\n",
      "---第7000次训练结束，Loss=0.4588039815425873\n",
      "---第10轮训练开始---\n",
      "---第7100次训练结束，Loss=0.4643642008304596\n",
      "---第7200次训练结束，Loss=0.4109707772731781\n",
      "---第7300次训练结束，Loss=0.4702833294868469\n",
      "---第7400次训练结束，Loss=0.5461330413818359\n",
      "---第7500次训练结束，Loss=0.4351664185523987\n",
      "---第7600次训练结束，Loss=0.565869927406311\n",
      "---第7700次训练结束，Loss=0.45581889152526855\n",
      "---第7800次训练结束，Loss=0.6331563591957092\n",
      "---第11轮训练开始---\n",
      "---第7900次训练结束，Loss=0.7117238640785217\n",
      "---第8000次训练结束，Loss=0.6170268654823303\n",
      "---第8100次训练结束，Loss=0.49156320095062256\n",
      "---第8200次训练结束，Loss=0.5694573521614075\n",
      "---第8300次训练结束，Loss=0.6198941469192505\n",
      "---第8400次训练结束，Loss=0.5662455558776855\n",
      "---第8500次训练结束，Loss=0.48631399869918823\n",
      "---第8600次训练结束，Loss=0.2802685797214508\n",
      "---第12轮训练开始---\n",
      "---第8700次训练结束，Loss=0.44362983107566833\n",
      "---第8800次训练结束，Loss=0.438938170671463\n",
      "---第8900次训练结束，Loss=0.6186158061027527\n",
      "---第9000次训练结束，Loss=0.6585952043533325\n",
      "---第9100次训练结束，Loss=0.40991780161857605\n",
      "---第9200次训练结束，Loss=0.5415777564048767\n",
      "---第9300次训练结束，Loss=0.43796589970588684\n",
      "---第13轮训练开始---\n",
      "---第9400次训练结束，Loss=0.3424839675426483\n",
      "---第9500次训练结束，Loss=0.4425981938838959\n",
      "---第9600次训练结束，Loss=0.7003288269042969\n",
      "---第9700次训练结束，Loss=0.42516952753067017\n",
      "---第9800次训练结束，Loss=0.4870023727416992\n",
      "---第9900次训练结束，Loss=0.3211234211921692\n",
      "---第10000次训练结束，Loss=0.5636991262435913\n",
      "---第10100次训练结束，Loss=0.21798790991306305\n",
      "---第14轮训练开始---\n",
      "---第10200次训练结束，Loss=0.44437742233276367\n",
      "---第10300次训练结束，Loss=0.3702567219734192\n",
      "---第10400次训练结束，Loss=0.6085888743400574\n",
      "---第10500次训练结束，Loss=0.4047648310661316\n",
      "---第10600次训练结束，Loss=0.22655995190143585\n",
      "---第10700次训练结束，Loss=0.21513426303863525\n",
      "---第10800次训练结束，Loss=0.3548538386821747\n",
      "---第10900次训练结束，Loss=0.2306884378194809\n",
      "---第15轮训练开始---\n",
      "---第11000次训练结束，Loss=0.2665623426437378\n",
      "---第11100次训练结束，Loss=0.28877222537994385\n",
      "---第11200次训练结束，Loss=0.2205299735069275\n",
      "---第11300次训练结束，Loss=0.4079158306121826\n",
      "---第11400次训练结束，Loss=0.33861708641052246\n",
      "---第11500次训练结束，Loss=0.6049973964691162\n",
      "---第11600次训练结束，Loss=0.2710740566253662\n",
      "---第11700次训练结束，Loss=0.5972903966903687\n",
      "---第16轮训练开始---\n",
      "---第11800次训练结束，Loss=0.44284847378730774\n",
      "---第11900次训练结束，Loss=0.5970572233200073\n",
      "---第12000次训练结束，Loss=0.25373777747154236\n",
      "---第12100次训练结束，Loss=0.2996442914009094\n",
      "---第12200次训练结束，Loss=0.34518173336982727\n",
      "---第12300次训练结束，Loss=0.5293832421302795\n",
      "---第12400次训练结束，Loss=0.2575051188468933\n",
      "---第12500次训练结束，Loss=0.24462783336639404\n",
      "---第17轮训练开始---\n",
      "---第12600次训练结束，Loss=0.34358879923820496\n",
      "---第12700次训练结束，Loss=0.4682227075099945\n",
      "---第12800次训练结束，Loss=0.13831624388694763\n",
      "---第12900次训练结束，Loss=0.47081685066223145\n",
      "---第13000次训练结束，Loss=0.2685886323451996\n",
      "---第13100次训练结束，Loss=0.27475154399871826\n",
      "---第13200次训练结束，Loss=0.2437954694032669\n",
      "---第18轮训练开始---\n",
      "---第13300次训练结束，Loss=0.3809800148010254\n",
      "---第13400次训练结束，Loss=0.37782618403434753\n",
      "---第13500次训练结束，Loss=0.15331979095935822\n",
      "---第13600次训练结束，Loss=0.3281928300857544\n",
      "---第13700次训练结束，Loss=0.25227367877960205\n",
      "---第13800次训练结束，Loss=0.27186232805252075\n",
      "---第13900次训练结束，Loss=0.5429409146308899\n",
      "---第14000次训练结束，Loss=0.3535114824771881\n",
      "---第19轮训练开始---\n",
      "---第14100次训练结束，Loss=0.4205286204814911\n",
      "---第14200次训练结束，Loss=0.39140307903289795\n",
      "---第14300次训练结束，Loss=0.6395459771156311\n",
      "---第14400次训练结束，Loss=0.4468623995780945\n",
      "---第14500次训练结束，Loss=0.3134734034538269\n",
      "---第14600次训练结束，Loss=0.5541041493415833\n",
      "---第14700次训练结束，Loss=0.1758609116077423\n",
      "---第14800次训练结束，Loss=0.4277336299419403\n",
      "---第20轮训练开始---\n",
      "---第14900次训练结束，Loss=0.17295238375663757\n",
      "---第15000次训练结束，Loss=0.30817222595214844\n",
      "---第15100次训练结束，Loss=0.24216437339782715\n",
      "---第15200次训练结束，Loss=0.3203304409980774\n",
      "---第15300次训练结束，Loss=0.2507662773132324\n",
      "---第15400次训练结束，Loss=0.35425156354904175\n",
      "---第15500次训练结束，Loss=0.4219326972961426\n",
      "---第15600次训练结束，Loss=0.31904852390289307\n"
     ]
    }
   ],
   "source": [
    "for i in range(epoch):\n",
    "    print('---第{}轮训练开始---'.format(i+1))\n",
    "    \n",
    "    net.train()      #开始训练，不是必须的，在网络中有BN，dropout时需要\n",
    "    for data in train_dataset_loader:\n",
    "        imgs, targets = data\n",
    "        imgs = imgs.to(device)\n",
    "        targets = targets.to(device)\n",
    "        output = net(imgs)\n",
    "        \n",
    "        # 比较输出与真实值，计算Loss\n",
    "        loss = loss_func(output, targets)\n",
    "        \n",
    "        # 反向传播,调整参数\n",
    "        optimizer.zero_grad()  # 每次让梯度重置\n",
    "        loss.backward()\n",
    "        optimizer.step()   # 用于更新模型的参数\n",
    "        \n",
    "        total_train_step += 1\n",
    "        \n",
    "        if total_train_step % 100 == 0:\n",
    "            print('---第{}次训练结束，Loss={}'.format(total_train_step, loss.item()))\n",
    "            "
   ]
  },
  {
   "cell_type": "markdown",
   "metadata": {},
   "source": [
    "## 8. 开始测试网络\n",
    "对网络进行测试过程和训练是类似的，不同的是测试过程不需要通过反向传播来更新参数。"
   ]
  },
  {
   "cell_type": "code",
   "execution_count": 11,
   "metadata": {},
   "outputs": [
    {
     "name": "stdout",
     "output_type": "stream",
     "text": [
      "第20轮测试的总损失为：350.32522106170654\n",
      "第20轮测试的准确率为：0.6243999600410461\n"
     ]
    }
   ],
   "source": [
    "net.eval()   #开始测试，不是必须的，在网络中有BN，dropout时需要\n",
    "with torch.no_grad():   #这句表示测试不需要进行反向传播，即不需要梯度变化【可以不加】\n",
    "    total_test_loss = 0    # 测试损失\n",
    "    total_test_accuracy = 0  # 测试集准确率\n",
    "    for data in test_dataset_loader:\n",
    "        imgs, targets = data\n",
    "        imgs = imgs.to(device)\n",
    "        targets = targets.to(device)\n",
    "        outputs = net(imgs)\n",
    "        \n",
    "        # 计算测试损失\n",
    "        loss = loss_func(outputs, targets)\n",
    "        total_test_loss = total_test_loss + loss.item()\n",
    "        accuracy = (outputs.argmax(1) == targets).sum()\n",
    "        total_test_accuracy = total_test_accuracy + accuracy\n",
    "print('第{}轮测试的总损失为：{}'.format(i+1, total_test_loss))\n",
    "print('第{}轮测试的准确率为：{}'.format(i+1, total_test_accuracy/test_dataset_size))"
   ]
  },
  {
   "cell_type": "markdown",
   "metadata": {},
   "source": [
    "## 保存模型"
   ]
  },
  {
   "cell_type": "code",
   "execution_count": 12,
   "metadata": {},
   "outputs": [
    {
     "name": "stdout",
     "output_type": "stream",
     "text": [
      "模型已保存\n"
     ]
    }
   ],
   "source": [
    "torch.save(net, './self_model_{}.pth'.format(i+1))\n",
    "print('模型已保存')"
   ]
  },
  {
   "cell_type": "code",
   "execution_count": null,
   "metadata": {},
   "outputs": [],
   "source": []
  }
 ],
 "metadata": {
  "kernelspec": {
   "display_name": "pytorch",
   "language": "python",
   "name": "python3"
  },
  "language_info": {
   "codemirror_mode": {
    "name": "ipython",
    "version": 3
   },
   "file_extension": ".py",
   "mimetype": "text/x-python",
   "name": "python",
   "nbconvert_exporter": "python",
   "pygments_lexer": "ipython3",
   "version": "3.11.6"
  }
 },
 "nbformat": 4,
 "nbformat_minor": 2
}
