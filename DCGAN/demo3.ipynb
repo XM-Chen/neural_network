{
 "cells": [
  {
   "cell_type": "markdown",
   "source": [
    "# DCGAN\n",
    "# 与"
   ],
   "metadata": {
    "collapsed": false
   },
   "id": "9840746aaa14a58c"
  }
 ],
 "metadata": {
  "kernelspec": {
   "display_name": "Python 3",
   "language": "python",
   "name": "python3"
  },
  "language_info": {
   "codemirror_mode": {
    "name": "ipython",
    "version": 2
   },
   "file_extension": ".py",
   "mimetype": "text/x-python",
   "name": "python",
   "nbconvert_exporter": "python",
   "pygments_lexer": "ipython2",
   "version": "2.7.6"
  }
 },
 "nbformat": 4,
 "nbformat_minor": 5
}
