{
 "cells": [
  {
   "cell_type": "markdown",
   "metadata": {},
   "source": [
    "# pytorch使用GAN实现生成伪手写数字"
   ]
  },
  {
   "cell_type": "markdown",
   "metadata": {},
   "source": [
    "## 预处理阶段"
   ]
  },
  {
   "cell_type": "code",
   "execution_count": null,
   "metadata": {},
   "outputs": [],
   "source": [
    "# 导入包\n",
    "import time\n",
    "import sys\n",
    "import os\n",
    "import torch\n",
    "import torchvision\n",
    "import torch.nn as nn\n",
    "from torchvision import transforms\n",
    "from torchvision.utils import save_image\n",
    "\n",
    "from torch.utils.tensorboard import SummaryWriter"
   ]
  },
  {
   "cell_type": "code",
   "execution_count": null,
   "metadata": {},
   "outputs": [],
   "source": [
    "# 计划使用GPU运行\n",
    "# 检查是否有可用的GPU\n",
    "device = torch.device('cuda' if torch.cuda.is_available() else 'cpu')\n",
    "device"
   ]
  },
  {
   "cell_type": "code",
   "execution_count": null,
   "metadata": {},
   "outputs": [],
   "source": [
    "# 超参数设置\n",
    "latent_size = 64\n",
    "hidden_size = 256\n",
    "image_size = 784\n",
    "num_epochs = 200\n",
    "batch_size = 100\n",
    "sample_dir = 'samples'"
   ]
  },
  {
   "cell_type": "code",
   "execution_count": null,
   "metadata": {},
   "outputs": [],
   "source": [
    "# 建立文件夹用于存放训练过程的图像，如果文件夹不存在，就创建一个\n",
    "if not os.path.exists(sample_dir):\n",
    "    os.makedirs(sample_dir)"
   ]
  },
  {
   "cell_type": "markdown",
   "metadata": {},
   "source": [
    "## MNISR 数据集"
   ]
  },
  {
   "cell_type": "code",
   "execution_count": null,
   "metadata": {},
   "outputs": [],
   "source": [
    "# transform配置\n",
    "transform = transforms.Compose(\n",
    "    [\n",
    "        transforms.ToTensor(),\n",
    "        transforms.Normalize(\n",
    "            mean=0.5,\n",
    "            std=0.5,\n",
    "        )\n",
    "    ]\n",
    ")"
   ]
  },
  {
   "cell_type": "code",
   "execution_count": null,
   "metadata": {},
   "outputs": [],
   "source": [
    "# 加载mnist数据，同时将数据按照transform的配置预处理\n",
    "# 判断是什么操作系统，以设置相应的数据集路径\n",
    "if sys.platform.startswith('win'):\n",
    "    datasetpath = 'D:\\\\nndatasets'\n",
    "else:\n",
    "    datasetpath = '/home/cxmd/文档/data_for_AI_train/mnist_data'\n",
    "\n",
    "mnist = torchvision.datasets.MNIST(\n",
    "    root=datasetpath,\n",
    "    train=True,\n",
    "    transform=transform,\n",
    "    download=True,\n",
    ")"
   ]
  },
  {
   "cell_type": "code",
   "execution_count": null,
   "metadata": {},
   "outputs": [],
   "source": [
    "# 数据集加载器：GAN为无监督机器学习\n",
    "# 参数dataset是要加载的数据集，这里是预处理后的mnist数据集\n",
    "# 参数batch_size是每个批次的样本数量\n",
    "# 参数shuffle为True表示在每个训练周期开始时，对数据进行重新洗牌\n",
    "data_loader = torch.utils.data.DataLoader(\n",
    "    dataset = mnist,\n",
    "    batch_size=batch_size,\n",
    "    shuffle=True,\n",
    ")\n",
    "data_loader"
   ]
  },
  {
   "cell_type": "markdown",
   "metadata": {},
   "source": [
    "## 生成器和判别器的创建"
   ]
  },
  {
   "cell_type": "code",
   "execution_count": null,
   "metadata": {},
   "outputs": [],
   "source": [
    "# 创建生成器\n",
    "G = nn.Sequential(\n",
    "    nn.Linear(latent_size, hidden_size),\n",
    "    nn.ReLU(),\n",
    "    nn.Linear(hidden_size, hidden_size),\n",
    "    nn.ReLU(),\n",
    "    nn.Linear(hidden_size, image_size),\n",
    "    nn.Tanh()\n",
    ")"
   ]
  },
  {
   "cell_type": "code",
   "execution_count": null,
   "metadata": {},
   "outputs": [],
   "source": [
    "# 创建判别器\n",
    "D = nn.Sequential(\n",
    "    nn.Linear(image_size, hidden_size), # 判别的输入时图像数据\n",
    "    nn.LeakyReLU(0.2),\n",
    "    nn.Linear(hidden_size, hidden_size),\n",
    "    nn.LeakyReLU(0.2),\n",
    "    nn.Linear(hidden_size, 1),\n",
    "    nn.Sigmoid()\n",
    ")"
   ]
  },
  {
   "cell_type": "code",
   "execution_count": null,
   "metadata": {},
   "outputs": [],
   "source": [
    "# 拷到计算设备上\n",
    "D = D.to(device)\n",
    "G = G.to(device)"
   ]
  },
  {
   "cell_type": "code",
   "execution_count": null,
   "metadata": {},
   "outputs": [],
   "source": [
    "# 设置损失函数和优化器\n",
    "criterion = nn.BCELoss() # 二值交叉熵 Binary cross entropy loss\n",
    "d_optimizer = torch.optim.Adam(D.parameters(), lr=0.0002)\n",
    "g_optimizer = torch.optim.Adam(G.parameters(), lr=0.0002)"
   ]
  },
  {
   "cell_type": "code",
   "execution_count": null,
   "metadata": {},
   "outputs": [],
   "source": [
    "# 定义两个函数\n",
    "def denorm(x):\n",
    "    # 使原本在[-1, 1]范围内的x变换到[0, 1]范围内\n",
    "    out = (x + 1) / 2\n",
    "    # 使用clamp函数确保所有的输出值都在[0, 1]范围内\n",
    "    # 如果out中有小于0的值，它们会被设为0\n",
    "    # 如果有大于1的值，它们会被设为1\n",
    "    return out.clamp(0, 1)\n",
    "\n",
    "\n",
    "# 重置梯度\n",
    "def reset_grad():\n",
    "    d_optimizer.zero_grad()\n",
    "    g_optimizer.zero_grad()"
   ]
  },
  {
   "cell_type": "markdown",
   "metadata": {},
   "source": [
    "## 训练"
   ]
  },
  {
   "cell_type": "markdown",
   "metadata": {},
   "source": [
    "分两步  \n",
    "1. 固定生成器，优化判别器\n",
    "2. 固定判别器，优化生成器"
   ]
  },
  {
   "cell_type": "code",
   "execution_count": null,
   "metadata": {},
   "outputs": [],
   "source": [
    "total_step = len(data_loader)   # 每次训练分为多少批次（训练集数量/batch_size大小）\n",
    "\n",
    "# 记录开始训练的时间\n",
    "start_time = time.time()\n",
    "\n",
    "for epoch in range(num_epochs):      # 训练集总训练轮次\n",
    "    for i, (images, labels) in enumerate(data_loader):   # 每次训练分为多少批次（训练集数量/batch_size大小）\n",
    "        images = images.reshape(batch_size, -1).to(device)  # 目的是将所有图像压平成一维\n",
    "        \n",
    "        # 创建标签，随后会用于损失函数BCE loss的计算\n",
    "        real_labels = torch.ones(batch_size, 1).to(device)    # 设置全1标签\n",
    "        fake_labels = torch.zeros(batch_size, 1).to(device)   # 设置全0标签\n",
    "        \n",
    "        # ================================================================== #\n",
    "        #                      训练判别模型                      #\n",
    "        # ================================================================== #\n",
    "        \n",
    "        # 计算real损失\n",
    "        # 使用公式 BCE_Loss(x, y) = -y * log(D(x)) - (1 - y) * log(1 - D(x)),来计算realimage的判别损失\n",
    "        # 其中第二项永远为零，因为real_labels == 1\n",
    "        outputs = D(images)\n",
    "        d_loss_real = criterion(outputs, real_labels)\n",
    "        real_score = outputs\n",
    "        \n",
    "        \n",
    "        # 计算fake损失\n",
    "        # 生成器根据随机输入生成fake_images\n",
    "        z = torch.randn(batch_size, latent_size).to(device)\n",
    "        fake_images = G(z)\n",
    "        # 使用公式 BCE_Loss(x, y) = -y * log(D(x)) - (1 - y) * log(1 - D(x)),来计算fakeimage的判别损失\n",
    "        # 其中第一项永远为零，因为fake_labels == 0\n",
    "        outputs = D(fake_images)\n",
    "        d_loss_fake = criterion(outputs, fake_labels)\n",
    "        fake_score = outputs\n",
    "        \n",
    "        # 反向传播优化\n",
    "        d_loss = d_loss_real + d_loss_fake     # 有个细节：本来要固定G，找到使损失最大时的D,但由于使用BCE_Loss函数计算时自动添加了负号，因此变为还是求损失函数的最小值，所以仍然可以通过后向传播更新参数\n",
    "        d_loss.backward()\n",
    "        d_optimizer.step()\n",
    "        \n",
    "        # ================================================================== #\n",
    "        #                      训练生成模型                        #\n",
    "        # ================================================================== #\n",
    "        \n",
    "        # 生成器根据随机输入生成fake_images，然后使用判别器进行判别\n",
    "        z = torch.randn(batch_size, latent_size).to(device)\n",
    "        fake_images = G(z)\n",
    "        outputs = D(fake_images)\n",
    "        \n",
    "        # 训练生成模型，使之最大化 log(D(G(z)) ，而不是最小化 log(1-D(G(z)))\n",
    "        # 具体的解释在原文第三小节最后一段有解释\n",
    "        # 大致含义就是在训练初期，生成模型G还很菜，判别模型会以很高的置信度拒绝样本，因为这些样本与训练数据明显不同。\n",
    "        # 这样log(1-D(G(z)))就近乎饱和，梯度计算得到的值很小，不利于反向传播和训练。\n",
    "        # 换一种思路，通过计算最大化log(D(G(z))，就能够在训练初期提供较大的梯度值，利于快速收敛\n",
    "        g_loss = criterion(outputs, real_labels)     # 相当于求-log(D(G(z)的最小值\n",
    "        \n",
    "        # 反向传播和优化\n",
    "        reset_grad()\n",
    "        g_loss.backward()\n",
    "        g_optimizer.step()\n",
    "        \n",
    "        if (i + 1) % 100 == 0:      # 每一百批次输入一次训练程度\n",
    "            # 计算过去的时间\n",
    "            elapsed_time = time.time() - start_time\n",
    "            print('Elapsed time: {:.4f} seconds, Epoch [{}/{}], Step [{}/{}], d_loss: {:.4f}, g_loss: {:.4f}, D(x): {:.2f}, D(G(z)): {:.2f}'.format(elapsed_time, epoch + 1, num_epochs, i + 1, total_step, d_loss.item(), g_loss.item(), real_score.mean().item(), fake_score.mean().item()))\n",
    "    \n",
    "    # 在第一轮保存训练数据图像\n",
    "    if epoch == 0:\n",
    "        images = images.reshape(images.size(0), 1, 28, 28)\n",
    "        save_image(denorm(images), os.path.join(sample_dir, 'real_images.png'))\n",
    "    \n",
    "    # 每一论保存生成的样本(集fake_images)\n",
    "    fake_images = fake_images.reshape(fake_images.size(0), 1, 28, 28)\n",
    "    save_image(denorm(fake_images), os.path.join(sample_dir, 'fake_images-{}.png'.format(epoch + 1)))\n",
    "    "
   ]
  },
  {
   "cell_type": "markdown",
   "metadata": {},
   "source": [
    "## 结果展示"
   ]
  },
  {
   "cell_type": "code",
   "execution_count": null,
   "metadata": {},
   "outputs": [],
   "source": [
    "# 导入包\n",
    "import matplotlib.pyplot as plt\n",
    "import scienceplots\n",
    "plt.style.use(['science', 'ieee'])\n",
    "import matplotlib.image as mpimg     # 用于读取图片\n",
    "import numpy as np"
   ]
  },
  {
   "cell_type": "markdown",
   "metadata": {},
   "source": [
    "real image"
   ]
  },
  {
   "cell_type": "code",
   "execution_count": null,
   "metadata": {},
   "outputs": [],
   "source": [
    "real_path = './samples/real_images.png'\n",
    "realImage = mpimg.imread(real_path)\n",
    "plt.imshow(realImage)\n",
    "plt.axis('off')   # 不显示坐标轴\n",
    "plt.show()"
   ]
  },
  {
   "cell_type": "markdown",
   "metadata": {},
   "source": [
    "#### fake image进化过程"
   ]
  },
  {
   "cell_type": "code",
   "execution_count": null,
   "metadata": {},
   "outputs": [],
   "source": [
    "# 起始阶段\n",
    "fakePath1 = './samples/fake_images-1.png'\n",
    "fakeImg1 = mpimg.imread(fakePath1)\n",
    "\n",
    "fakePath5 = './samples/fake_images-5.png'\n",
    "fakeImg5 = mpimg.imread(fakePath5)\n",
    "\n",
    "\n",
    "fig, ax = plt.subplots(1, 2)\n",
    "ax[0].imshow(fakeImg1)\n",
    "ax[1].imshow(fakeImg5)\n",
    "plt.axis('off')\n",
    "plt.show()\n",
    "\n",
    "\n",
    "fakePath195 = './samples/fake_images-195.png'\n",
    "fakeImg195 = mpimg.imread(fakePath195)\n",
    "\n",
    "fakePath200 = './samples/fake_images-200.png'\n",
    "fakeImg200 = mpimg.imread(fakePath200)\n",
    "\n",
    "fig, ax = plt.subplots(1, 2)\n",
    "ax[0].imshow(fakeImg195)\n",
    "ax[1].imshow(fakeImg200)\n",
    "plt.axis('off')\n",
    "plt.show()\n"
   ]
  },
  {
   "cell_type": "code",
   "execution_count": null,
   "metadata": {},
   "outputs": [],
   "source": []
  }
 ],
 "metadata": {
  "kernelspec": {
   "display_name": "pytorch",
   "language": "python",
   "name": "python3"
  },
  "language_info": {
   "codemirror_mode": {
    "name": "ipython",
    "version": 3
   },
   "file_extension": ".py",
   "mimetype": "text/x-python",
   "name": "python",
   "nbconvert_exporter": "python",
   "pygments_lexer": "ipython3",
   "version": "3.11.6"
  }
 },
 "nbformat": 4,
 "nbformat_minor": 2
}
