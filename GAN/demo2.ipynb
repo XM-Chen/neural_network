{
 "cells": [
  {
   "cell_type": "markdown",
   "source": [
    "# GAN\n",
    "与demo1不同的是数据集是img_align_celeba数据集"
   ],
   "metadata": {
    "collapsed": false
   },
   "id": "344bb488d6fd492e"
  },
  {
   "cell_type": "code",
   "execution_count": null,
   "outputs": [],
   "source": [
    "import os\n",
    "import sys\n",
    "import time\n",
    "\n",
    "import matplotlib.pyplot as plt\n",
    "import numpy as np\n",
    "import torch.nn as nn\n",
    "import torch.optim as optim\n",
    "import torch.utils.data\n",
    "from torch.autograd import Variable\n",
    "import torchvision.datasets as dset\n",
    "import torchvision.transforms as transforms\n",
    "import torchvision.utils as vutils\n",
    "# PyTorch TensorBoard support\n",
    "from torch.utils.tensorboard import SummaryWriter\n",
    "from torchvision.utils import save_image"
   ],
   "metadata": {
    "collapsed": false
   },
   "id": "8a32b5559ea1d4a1"
  },
  {
   "cell_type": "code",
   "execution_count": null,
   "outputs": [],
   "source": [
    "# %% 超参数\n",
    "if sys.platform.startswith('win'):\n",
    "    datapath = 'D:\\\\datasets\\\\mnist_data'\n",
    "else:\n",
    "    datapath = '/home/cxmd/文档/data_for_AI_train/celeba/'\n",
    "\n",
    "workers = 8             # 加载数据集时所使用的线程数\n",
    "n_epochs = 200          # 训练次数\n",
    "batch_size = 64        # 批大小\n",
    "lr = 0.00005            # 学习率\n",
    "b1 = 0.5 \n",
    "b2 = 0.999\n",
    "n_cpu = 8               # cpu数量\n",
    "latent_dim = 100        # 隐变量维度\n",
    "img_size = 32           # 图片大小\n",
    "channels = 3            # 图像通道数\n",
    "n_critic = 5            # 每次迭代判别器训练的次数\n",
    "clip_value = 0.01       # \n",
    "sample_interval = 400   # 每400次迭代保存一次生成的图片\n",
    "\n",
    "ngpu = 1            # 使用的GPU数量，使用0表示cpu模式\n",
    "\n",
    "img_shape = (channels, img_size, img_size)"
   ],
   "metadata": {
    "collapsed": false
   },
   "id": "a0fac5538db603b"
  },
  {
   "cell_type": "code",
   "execution_count": null,
   "outputs": [],
   "source": [
    "# 选择我们运行在上面的设备\n",
    "device = torch.device(\"cuda\" if (torch.cuda.is_available()) else \"cpu\")\n",
    "print(device)"
   ],
   "metadata": {
    "collapsed": false
   },
   "id": "47cc270b21f3cdb2"
  },
  {
   "cell_type": "code",
   "execution_count": null,
   "outputs": [],
   "source": [
    "os.makedirs(r\"/home/cxmd/文档/git_files/neural_network/GAN/run2\", exist_ok=True)\n",
    "os.makedirs(r\"/home/cxmd/文档/git_files/neural_network/GAN/images2\", exist_ok=True)"
   ],
   "metadata": {
    "collapsed": false
   },
   "id": "35c1d6aa125de760"
  },
  {
   "cell_type": "code",
   "execution_count": null,
   "outputs": [],
   "source": [
    "# transform配置\n",
    "transform = transforms.Compose(\n",
    "    [\n",
    "        transforms.Resize(img_size),\n",
    "        transforms.CenterCrop(img_size),\n",
    "        transforms.ToTensor(),\n",
    "        transforms.Normalize(mean=[0.5, 0.5, 0.5],std=[0.5, 0.5, 0.5]),\n",
    "    ]\n",
    ")\n",
    "\n",
    "dataset = dset.ImageFolder(\n",
    "    root=datapath,\n",
    "    transform=transform\n",
    ")\n",
    "\n",
    "data_loader = torch.utils.data.DataLoader(\n",
    "    dataset=dataset,\n",
    "    batch_size=batch_size,\n",
    "    shuffle=True,\n",
    "    num_workers=workers\n",
    ")\n"
   ],
   "metadata": {
    "collapsed": false
   },
   "id": "3c10a49a5b075724"
  },
  {
   "cell_type": "code",
   "execution_count": null,
   "outputs": [],
   "source": [
    "# 绘制部分我们的输入图像\n",
    "real_batch = next(iter(data_loader))\n",
    "fig, ax = plt.subplots(figsize=(8, 8))\n",
    "ax.axis(\"off\")\n",
    "ax.set_title(\"Training Images\")\n",
    "ax.imshow(\n",
    "    vutils.make_grid(\n",
    "        real_batch[0].to(device)[:64], padding=2, normalize=True\n",
    "    ).permute(1, 2, 0).cpu()\n",
    ")\n",
    "plt.show()"
   ],
   "metadata": {
    "collapsed": false
   },
   "id": "829c3d5d318a83"
  },
  {
   "cell_type": "code",
   "execution_count": null,
   "outputs": [],
   "source": [
    "# 标准GAN生成器\n",
    "class Generator(nn.Module):\n",
    "    def __init__(self):\n",
    "        super(Generator, self).__init__()\n",
    "        \n",
    "        def block(in_features, out_features, normalize=True):\n",
    "            layers = [nn.Linear(in_features, out_features)]\n",
    "            if normalize:\n",
    "                layers.append(nn.BatchNorm1d(out_features, 0.8))\n",
    "            layers.append(nn.LeakyReLU(0.2, inplace=True))\n",
    "            return layers\n",
    "        \n",
    "        self.model = nn.Sequential(\n",
    "            *block(latent_dim, 128, normalize=False),\n",
    "            *block(128, 256),\n",
    "            *block(256, 512),\n",
    "            *block(512, 1024),\n",
    "            nn.Linear(1024, int(np.prod(img_shape)))\n",
    "        )\n",
    "        \n",
    "    def forward(self, z):\n",
    "        img = self.model(z)     # 输入形状为(batch_size, latent_dim)\n",
    "        img = img.reshape(img.shape[0], *img_shape)  # 输出形状为(batch_size, channels, img_size, img_size)\n",
    "        return img"
   ],
   "metadata": {
    "collapsed": false
   },
   "id": "20d38cf1e82842a6"
  },
  {
   "cell_type": "code",
   "execution_count": null,
   "outputs": [],
   "source": [
    "netG = Generator().to(device)\n",
    "print(netG)\n",
    "\n",
    "# 写入tensorboard\n",
    "if sys.platform.startswith('win'):\n",
    "    writerGpath = r'D:\\git_files\\neural_network\\GAN\\run1\\Generator'\n",
    "else:\n",
    "    writerGpath = r'/home/cxmd/文档/git_files/neural_network/GAN/run2/Generator'\n",
    "\n",
    "writerG = SummaryWriter(writerGpath)\n",
    "\n",
    "input_to_netG = torch.randn(batch_size, latent_dim, device=device)\n",
    "writerG.add_graph(netG, input_to_model=input_to_netG)\n",
    "writerG.close()"
   ],
   "metadata": {
    "collapsed": false
   },
   "id": "cf19b22e953b36c8"
  },
  {
   "cell_type": "code",
   "execution_count": null,
   "outputs": [],
   "source": [
    "# 判别器\n",
    "class Discriminator(nn.Module):\n",
    "    def __init__(self):\n",
    "        super(Discriminator, self).__init__()\n",
    "        self.model = nn.Sequential(\n",
    "            nn.Linear(int(np.prod(img_shape)), 512),\n",
    "            nn.LeakyReLU(0.2, inplace=True),\n",
    "            nn.Linear(512, 256),\n",
    "            nn.LeakyReLU(0.2, inplace=True),\n",
    "            nn.Linear(256, 1),\n",
    "            nn.Sigmoid(),\n",
    "        )\n",
    "    \n",
    "    def forward(self, img):\n",
    "        img_flat = img.reshape(img.shape[0], -1)    # 输入形状为(batch_size, channels, img_size, img_size)\n",
    "        validity = self.model(img_flat)            # 输出形状为(batch_size, 1)\n",
    "        return validity"
   ],
   "metadata": {
    "collapsed": false
   },
   "id": "7fa232b87ce0fe83"
  },
  {
   "cell_type": "code",
   "execution_count": null,
   "outputs": [],
   "source": [
    "netD = Discriminator().to(device)\n",
    "print(netD)\n",
    "\n",
    "if sys.platform.startswith(\"win\"):\n",
    "    writerDpath = r'D:\\git_files\\neural_network\\GAN\\run1\\Discriminator'\n",
    "else:\n",
    "    writerDpath = r'/home/cxmd/文档/git_files/neural_network/GAN/run2/Discriminator'\n",
    "\n",
    "writerD = SummaryWriter(writerDpath)\n",
    "input_to_netD = torch.randn(batch_size, int(np.prod(img_shape)), device=device)\n",
    "writerD.add_graph(netD, input_to_netD)\n",
    "writerD.close()"
   ],
   "metadata": {
    "collapsed": false
   },
   "id": "fc345b220a575b69"
  },
  {
   "cell_type": "code",
   "execution_count": null,
   "outputs": [],
   "source": [
    "# 设置损失函数和优化器\n",
    "adversarial_loss = nn.BCELoss()  # 二值交叉熵 Binary cross entropy loss\n",
    "optimizer_G = torch.optim.Adam(netG.parameters(), lr=lr, betas=(b1, b2))\n",
    "optimizer_D = torch.optim.Adam(netD.parameters(), lr=lr, betas=(b1, b2))"
   ],
   "metadata": {
    "collapsed": false
   },
   "id": "bb5b30ebc099b407"
  },
  {
   "cell_type": "code",
   "execution_count": null,
   "outputs": [],
   "source": [
    "# 记录开始训练的时间\n",
    "start_time = time.time()\n",
    "\n",
    "batches_done = 0\n",
    "if sys.platform.startswith('win'):\n",
    "    writerpath = r'D:\\git_files\\neural_network\\GAN\\run2'\n",
    "else:\n",
    "    writerpath = r'/home/cxmd/文档/git_files/neural_network/GAN/run2'\n",
    "writer = SummaryWriter(writerpath)\n",
    "\n",
    "\n",
    "for epoch in range(n_epochs):\n",
    "    for i, (imgs, _) in enumerate(data_loader):\n",
    "        \n",
    "        # 创建真实图像和生成图像的标签\n",
    "        valid = torch.ones([imgs.size(0), 1]).to(device)\n",
    "        fake = torch.zeros([imgs.size(0), 1]).to(device)\n",
    "        \n",
    "        # 真实输入训练集\n",
    "        real_imgs = imgs.to(device)\n",
    "        # real_imgs = Variable(imgs.type(Tensor)).to(device)\n",
    "        \n",
    "        # -----------------\n",
    "        #  训练生成器\n",
    "        # -----------------\n",
    "        \n",
    "        optimizer_G.zero_grad()\n",
    "        \n",
    "        # 生成正态分布噪声以作为生成器的输入\n",
    "        z = torch.randn(imgs.shape[0], latent_dim, device=device)\n",
    "        \n",
    "        # 生成器生成的图像\n",
    "        gen_imgs = netG(z).to(device)\n",
    "        \n",
    "        # 生成器损失函数来衡量生成器欺骗判别器的能力\n",
    "        g_loss = adversarial_loss(netD(gen_imgs), valid).to(device)\n",
    "        \n",
    "        g_loss.backward()\n",
    "        optimizer_G.step()\n",
    "        \n",
    "        # ---------------------\n",
    "        #  训练判别器\n",
    "        # ---------------------\n",
    "        \n",
    "        optimizer_D.zero_grad()\n",
    "        \n",
    "        # 判别器损失函数来衡量分辨出真实图片和生成器生成图片的能力\n",
    "        real_loss = adversarial_loss(netD(real_imgs), valid)\n",
    "        fake_loss = adversarial_loss(netD(gen_imgs.detach()), fake)\n",
    "        \n",
    "        d_loss = (real_loss + fake_loss) / 2\n",
    "        \n",
    "        real_score = netD(real_imgs)\n",
    "        fake_score = netD(gen_imgs.detach())\n",
    "        \n",
    "        d_loss.backward()\n",
    "        optimizer_D.step()\n",
    "        \n",
    "        # tensorboard跟踪数据\n",
    "        writer.add_scalar('loss_g', g_loss.item(), epoch*len(data_loader)+i)\n",
    "        writer.add_scalar('loss_d', d_loss.item(), epoch*len(data_loader)+i)\n",
    "        writer.add_scalar('D(x)', real_score.mean().item(), epoch*len(data_loader)+i)\n",
    "        writer.add_scalar('D(G(z))', fake_score.mean().item(), epoch*len(data_loader)+i)\n",
    "        \n",
    "        if (i + 1) % 100 == 0:      # 每一百批次输入一次训练程度\n",
    "            # 计算过去的时间\n",
    "            elapsed_time = time.time() - start_time\n",
    "            print('Elapsed time: {:.4f} seconds, Epoch [{}/{}], Step [{}/{}], d_loss: {:.4f}, g_loss: {:.4f}, D(x): {:.2f}, D(G(z)): {:.2f}'.format(elapsed_time, epoch + 1, n_epochs, i + 1, len(data_loader), d_loss.item(), g_loss.item(), real_score.mean().item(), fake_score.mean().item()))\n",
    "\n",
    "        if batches_done % sample_interval == 0:\n",
    "            # writer image to tensorboard\n",
    "            imgs_to_tensorboard = gen_imgs.data[:25]\n",
    "            imgs_to_tensorboard = vutils.make_grid(imgs_to_tensorboard, nrow=5, normalize=True).cpu()\n",
    "            writer.add_image(\"fake_imgs\", imgs_to_tensorboard, epoch*len(data_loader)+i)\n",
    "            \n",
    "            save_image(gen_imgs.data[:25], r\"/home/cxmd/文档/git_files/neural_network/GAN/images2/%d.png\" % batches_done, nrow=5, normalize=True)\n",
    "\n",
    "        batches_done += 1\n",
    "writer.close()"
   ],
   "metadata": {
    "collapsed": false
   },
   "id": "17f2092ead963156"
  }
 ],
 "metadata": {
  "kernelspec": {
   "display_name": "Python 3",
   "language": "python",
   "name": "python3"
  },
  "language_info": {
   "codemirror_mode": {
    "name": "ipython",
    "version": 2
   },
   "file_extension": ".py",
   "mimetype": "text/x-python",
   "name": "python",
   "nbconvert_exporter": "python",
   "pygments_lexer": "ipython2",
   "version": "2.7.6"
  }
 },
 "nbformat": 4,
 "nbformat_minor": 5
}
