{
 "cells": [
  {
   "cell_type": "code",
   "execution_count": null,
   "metadata": {},
   "outputs": [],
   "source": [
    "import torch\n",
    "from torchvision import  datasets, transforms\n",
    "\n",
    "# 定义转换操作\n",
    "transform = transforms.Compose([\n",
    "    transforms.ToTensor(),    # 将图像转换为Tensor\n",
    "    transforms.Normalize(mean=[0.5, 0.5, 0.5], std=[0.5, 0.5, 0.5])    # 归一化\n",
    "])\n",
    "\n",
    "# 定义源文件夹\n",
    "hr_dir = '/home/cxmd/文档/data_for_AI_train/Particles/hr'\n",
    "lr_dir = '/home/cxmd/文档/data_for_AI_train/Particles/lr'\n",
    "\n",
    "# 加载数据\n",
    "hr_dataset = datasets.ImageFolder(hr_dir, transform=transform)\n",
    "lr_dataset = datasets.ImageFolder(lr_dir, transform=transform)\n",
    "\n",
    "# 创建数据加载器\n",
    "hr_loader = torch.utils.data.DataLoader(hr_dataset, batch_size=64, shuffle=True)\n",
    "lr_loader = torch.utils.data.DataLoader(lr_dataset, batch_size=64, shuffle=True)"
   ]
  }
 ],
 "metadata": {
  "language_info": {
   "name": "python"
  }
 },
 "nbformat": 4,
 "nbformat_minor": 2
}
