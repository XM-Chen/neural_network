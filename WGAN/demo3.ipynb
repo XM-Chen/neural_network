{
 "cells": [
  {
   "cell_type": "markdown",
   "source": [
    "# WGAN\n",
    "数据集：cele  \n",
    "与demo1不同的是MNIST数据集使用图片格式"
   ],
   "metadata": {
    "collapsed": false
   },
   "id": "7a0a52b7a3b5f9b5"
  },
  {
   "cell_type": "code",
   "execution_count": null,
   "outputs": [],
   "source": [],
   "metadata": {
    "collapsed": false
   },
   "id": "f3c58bbd0e135126"
  }
 ],
 "metadata": {
  "kernelspec": {
   "display_name": "Python 3",
   "language": "python",
   "name": "python3"
  },
  "language_info": {
   "codemirror_mode": {
    "name": "ipython",
    "version": 2
   },
   "file_extension": ".py",
   "mimetype": "text/x-python",
   "name": "python",
   "nbconvert_exporter": "python",
   "pygments_lexer": "ipython2",
   "version": "2.7.6"
  }
 },
 "nbformat": 4,
 "nbformat_minor": 5
}
