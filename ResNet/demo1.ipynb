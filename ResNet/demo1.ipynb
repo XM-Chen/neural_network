{
 "cells": [
  {
   "cell_type": "code",
   "execution_count": 1,
   "id": "initial_id",
   "metadata": {
    "collapsed": true,
    "ExecuteTime": {
     "end_time": "2023-12-19T15:29:12.317392660Z",
     "start_time": "2023-12-19T15:29:11.096301276Z"
    }
   },
   "outputs": [],
   "source": [
    "\n",
    "import os\n",
    "\n",
    "import torch\n",
    "from torch import nn\n",
    "from torch.nn import functional as F\n",
    "from torch.utils.tensorboard import SummaryWriter"
   ]
  },
  {
   "cell_type": "code",
   "execution_count": 2,
   "outputs": [
    {
     "name": "stdout",
     "output_type": "stream",
     "text": [
      "cuda\n"
     ]
    }
   ],
   "source": [
    "device = torch.device('cuda' if torch.cuda.is_available() else 'cpu')\n",
    "print(device)"
   ],
   "metadata": {
    "collapsed": false,
    "ExecuteTime": {
     "end_time": "2023-12-19T15:29:12.363930273Z",
     "start_time": "2023-12-19T15:29:12.363148861Z"
    }
   },
   "id": "55afce42c4ab28fb"
  },
  {
   "cell_type": "markdown",
   "source": [
    "残差块"
   ],
   "metadata": {
    "collapsed": false
   },
   "id": "5e8256649577cfbc"
  },
  {
   "cell_type": "code",
   "execution_count": 3,
   "id": "9a9dd06098146d4f",
   "metadata": {
    "collapsed": false,
    "ExecuteTime": {
     "end_time": "2023-12-19T15:29:12.452964561Z",
     "start_time": "2023-12-19T15:29:12.364811680Z"
    }
   },
   "outputs": [],
   "source": [
    "class Residual(nn.Module):\n",
    "    def __init__(self, input_channels, num_channels, use_1x1conv=False, strides=1):\n",
    "        super(Residual, self).__init__()\n",
    "        \n",
    "        self.main_path = nn.Sequential(\n",
    "            nn.Conv2d(input_channels, num_channels, kernel_size=3, padding=1, stride=strides),\n",
    "            nn.BatchNorm2d(num_channels),\n",
    "            nn.ReLU(),\n",
    "            nn.Conv2d(num_channels, num_channels, kernel_size=3, padding=1),\n",
    "            nn.BatchNorm2d(num_channels)\n",
    "        )\n",
    "        \n",
    "        self.shortcut_path = nn.Sequential()\n",
    "        if use_1x1conv:\n",
    "            self.shortcut_path = nn.Sequential(\n",
    "                nn.Conv2d(input_channels, num_channels, kernel_size=1, stride=strides)\n",
    "            )\n",
    "    \n",
    "    def forward(self, input):\n",
    "        output = self.main_path(input)\n",
    "        shortcut = self.shortcut_path(input)\n",
    "        output += shortcut\n",
    "        return F.relu(output)"
   ]
  },
  {
   "cell_type": "code",
   "execution_count": 4,
   "id": "8bad93b9",
   "metadata": {
    "ExecuteTime": {
     "end_time": "2023-12-19T15:29:12.724269357Z",
     "start_time": "2023-12-19T15:29:12.455179485Z"
    }
   },
   "outputs": [
    {
     "name": "stdout",
     "output_type": "stream",
     "text": [
      "Residual(\n",
      "  (main_path): Sequential(\n",
      "    (0): Conv2d(3, 3, kernel_size=(3, 3), stride=(1, 1), padding=(1, 1))\n",
      "    (1): BatchNorm2d(3, eps=1e-05, momentum=0.1, affine=True, track_running_stats=True)\n",
      "    (2): ReLU()\n",
      "    (3): Conv2d(3, 3, kernel_size=(3, 3), stride=(1, 1), padding=(1, 1))\n",
      "    (4): BatchNorm2d(3, eps=1e-05, momentum=0.1, affine=True, track_running_stats=True)\n",
      "  )\n",
      "  (shortcut_path): Sequential(\n",
      "    (0): Conv2d(3, 3, kernel_size=(1, 1), stride=(1, 1))\n",
      "  )\n",
      ")\n"
     ]
    }
   ],
   "source": [
    "os.makedirs(r\"/home/cxmd/文档/git_files/neural_network/ResNet/run1\", exist_ok=True)\n",
    "residual = Residual(input_channels=3, num_channels=3, use_1x1conv=True)\n",
    "print(residual)\n",
    "writer = SummaryWriter('/home/cxmd/文档/git_files/neural_network/ResNet/run1/Residual')\n",
    "writer.add_graph(residual, torch.randn(1, 3, 32, 32))\n",
    "writer.close()"
   ]
  },
  {
   "cell_type": "code",
   "execution_count": 5,
   "id": "028a039f",
   "metadata": {
    "ExecuteTime": {
     "end_time": "2023-12-19T15:29:12.732652899Z",
     "start_time": "2023-12-19T15:29:12.721485125Z"
    }
   },
   "outputs": [
    {
     "data": {
      "text/plain": "torch.Size([4, 3, 6, 6])"
     },
     "execution_count": 5,
     "metadata": {},
     "output_type": "execute_result"
    }
   ],
   "source": [
    "X = torch.rand(4, 3, 6, 6)\n",
    "Y = residual(X)\n",
    "Y.shape"
   ]
  },
  {
   "cell_type": "markdown",
   "source": [
    "ResNet模型"
   ],
   "metadata": {
    "collapsed": false
   },
   "id": "8115c5be0a9a4f80"
  },
  {
   "cell_type": "code",
   "execution_count": 6,
   "outputs": [
    {
     "name": "stdout",
     "output_type": "stream",
     "text": [
      "Sequential(\n",
      "  (0): Conv2d(1, 64, kernel_size=(7, 7), stride=(2, 2), padding=(3, 3))\n",
      "  (1): BatchNorm2d(64, eps=1e-05, momentum=0.1, affine=True, track_running_stats=True)\n",
      "  (2): ReLU()\n",
      "  (3): MaxPool2d(kernel_size=3, stride=2, padding=1, dilation=1, ceil_mode=False)\n",
      ")\n"
     ]
    }
   ],
   "source": [
    "b1 = nn.Sequential(nn.Conv2d(1, 64, kernel_size=7, stride=2, padding=3),\n",
    "                   nn.BatchNorm2d(64), \n",
    "                   nn.ReLU(),\n",
    "                   nn.MaxPool2d(kernel_size=3, stride=2, padding=1))\n",
    "print(b1)"
   ],
   "metadata": {
    "collapsed": false,
    "ExecuteTime": {
     "end_time": "2023-12-19T15:29:12.798550728Z",
     "start_time": "2023-12-19T15:29:12.728008670Z"
    }
   },
   "id": "41b926b7c0298f4a"
  },
  {
   "cell_type": "code",
   "execution_count": 7,
   "outputs": [],
   "source": [
    "def resnet_block(input_channels, num_channels, num_residuals,\n",
    "                 first_block=False):\n",
    "    blk = []\n",
    "    for i in range(num_residuals):\n",
    "        if i == 0 and not first_block:\n",
    "            blk.append(Residual(input_channels, num_channels,\n",
    "                                use_1x1conv=True, strides=2))\n",
    "        else:\n",
    "            blk.append(Residual(num_channels, num_channels))\n",
    "    return blk"
   ],
   "metadata": {
    "collapsed": false,
    "ExecuteTime": {
     "end_time": "2023-12-19T15:29:12.878718768Z",
     "start_time": "2023-12-19T15:29:12.801180588Z"
    }
   },
   "id": "6f0cbef99bf8be29"
  },
  {
   "cell_type": "code",
   "execution_count": 8,
   "outputs": [],
   "source": [
    "b2 = nn.Sequential(*resnet_block(64, 64, 2, first_block=True))\n",
    "b3 = nn.Sequential(*resnet_block(64, 128, 2))\n",
    "b4 = nn.Sequential(*resnet_block(128, 256, 2))\n",
    "b5 = nn.Sequential(*resnet_block(256, 512, 2))"
   ],
   "metadata": {
    "collapsed": false,
    "ExecuteTime": {
     "end_time": "2023-12-19T15:29:13.069277232Z",
     "start_time": "2023-12-19T15:29:12.880167215Z"
    }
   },
   "id": "840b7092b43dc6ac"
  },
  {
   "cell_type": "code",
   "execution_count": 9,
   "outputs": [],
   "source": [
    "resnet = nn.Sequential(b1, b2, b3, b4, b5,\n",
    "                    nn.AdaptiveAvgPool2d((1,1)),\n",
    "                    nn.Flatten(), nn.Linear(512, 10))"
   ],
   "metadata": {
    "collapsed": false,
    "ExecuteTime": {
     "end_time": "2023-12-19T15:29:13.163255312Z",
     "start_time": "2023-12-19T15:29:13.071223449Z"
    }
   },
   "id": "82a0757f9d895f89"
  },
  {
   "cell_type": "code",
   "execution_count": 10,
   "outputs": [],
   "source": [
    "writer = SummaryWriter('/home/cxmd/文档/git_files/neural_network/ResNet/run1/ResNet')\n",
    "writer.add_graph(resnet, torch.randn(64, 1, 7, 7))\n",
    "writer.close()"
   ],
   "metadata": {
    "collapsed": false,
    "ExecuteTime": {
     "end_time": "2023-12-19T15:29:13.693017438Z",
     "start_time": "2023-12-19T15:29:13.163225405Z"
    }
   },
   "id": "eb8ded5bb5d79560"
  },
  {
   "cell_type": "code",
   "execution_count": 11,
   "outputs": [
    {
     "name": "stdout",
     "output_type": "stream",
     "text": [
      "Sequential output shape:\t torch.Size([1, 64, 56, 56])\n",
      "Sequential output shape:\t torch.Size([1, 64, 56, 56])\n",
      "Sequential output shape:\t torch.Size([1, 128, 28, 28])\n",
      "Sequential output shape:\t torch.Size([1, 256, 14, 14])\n",
      "Sequential output shape:\t torch.Size([1, 512, 7, 7])\n",
      "AdaptiveAvgPool2d output shape:\t torch.Size([1, 512, 1, 1])\n",
      "Flatten output shape:\t torch.Size([1, 512])\n",
      "Linear output shape:\t torch.Size([1, 10])\n"
     ]
    }
   ],
   "source": [
    "X = torch.rand(size=(1, 1, 224, 224))\n",
    "for layer in resnet:\n",
    "    X = layer(X)\n",
    "    print(layer.__class__.__name__,'output shape:\\t', X.shape)"
   ],
   "metadata": {
    "collapsed": false,
    "ExecuteTime": {
     "end_time": "2023-12-19T15:29:57.509633734Z",
     "start_time": "2023-12-19T15:29:57.421528371Z"
    }
   },
   "id": "cfed2d3594aa5023"
  }
 ],
 "metadata": {
  "kernelspec": {
   "display_name": "Python 3",
   "language": "python",
   "name": "python3"
  },
  "language_info": {
   "codemirror_mode": {
    "name": "ipython",
    "version": 3
   },
   "file_extension": ".py",
   "mimetype": "text/x-python",
   "name": "python",
   "nbconvert_exporter": "python",
   "pygments_lexer": "ipython3",
   "version": "3.11.7"
  }
 },
 "nbformat": 4,
 "nbformat_minor": 5
}
